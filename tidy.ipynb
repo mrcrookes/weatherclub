{
 "cells": [
  {
   "cell_type": "code",
   "execution_count": null,
   "id": "34d4edf9",
   "metadata": {},
   "outputs": [],
   "source": [
    "import pandas as pd\n",
    "import numpy as np"
   ]
  },
  {
   "cell_type": "code",
   "execution_count": null,
   "id": "4040cc59",
   "metadata": {},
   "outputs": [],
   "source": [
    "def tidy(df):\n",
    "    \n",
    "    #### Fix usual issues with all strings\n",
    "    \n",
    "    # Capitalise headers\n",
    "    df.columns = df.columns.astype(str).str.upper()\n",
    "    \n",
    "    # Capitalise columns\n",
    "    df = df.map(lambda x: x.upper() if type(x) is str else x)\n",
    "\n",
    "    # Strip whitespace\n",
    "    df = df.map(lambda x: x.strip() if type(x) is str else x)\n",
    "\n",
    "    # Remove parenthesis\n",
    "    df = df.map(lambda x: x.replace('(', '') if type(x) is str else x)\n",
    "    df = df.map(lambda x: x.replace(')', '') if type(x) is str else x)\n",
    "    \n",
    "    # Remove dashes\n",
    "    df = df.map(lambda x: x.replace('-', '') if type(x) is str else x)\n",
    "    \n",
    "    # Remove full stops\n",
    "    df = df.map(lambda x: x.replace('.', '') if type(x) is str else x)\n",
    "    \n",
    "    # Remove commas\n",
    "    df = df.map(lambda x: x.replace(',', '') if type(x) is str else x)\n",
    "    \n",
    "    # Remove linebreaks\n",
    "    df = df.map(lambda x: x.replace('\\n', '') if type(x) is str else x)\n",
    "\n",
    "    # Replace annoying substrings\n",
    "    df = df.map(lambda x: x.replace(' AND ', ' & ') if type(x) is str else x)\n",
    "    df = df.map(lambda x: x.replace(' – ', ' - ') if type(x) is str else x)\n",
    "    df = df.map(lambda x: x.replace(' / ', '/') if type(x) is str else x)\n",
    "    df = df.map(lambda x: x.replace('/ ', '/') if type(x) is str else x)\n",
    "    df = df.map(lambda x: x.replace(' /', '/') if type(x) is str else x)\n",
    "    \n",
    "    # Strip whitespace again\n",
    "    df = df.map(lambda x: x.strip() if type(x) is str else x)\n",
    "    \n",
    "    # Remove double spaces\n",
    "    df = df.map(lambda x: x.replace('  ', ' ') if type(x) is str else x)\n",
    "    \n",
    "    # Drop rows with minimum number of 2 non-null values\n",
    "    df = df.dropna(thresh=2)\n",
    "    \n",
    "    return df"
   ]
  },
  {
   "cell_type": "code",
   "execution_count": null,
   "id": "4a3fe734",
   "metadata": {},
   "outputs": [],
   "source": [
    "# Import weather data from .txt file, skip first two rows\n",
    "df = pd.read_csv(\"./data/all_data_jan_25.txt\", header = None, skiprows = 2, parse_dates = [[0, 1]], \n",
    "                     dayfirst = True, sep = \"\\t\", na_values = \"---\")\n",
    "df.head()"
   ]
  },
  {
   "cell_type": "code",
   "execution_count": null,
   "id": "5a5b2f27",
   "metadata": {},
   "outputs": [],
   "source": [
    "# Replace headers\n",
    "header = ['DateTime', 'Temp Out', 'Hi Temp', 'Low Temp', 'Out Hum', 'Dew Pt.', 'Wind Speed',\n",
    " 'Wind Dir', 'Wind Run', 'Hi Speed', 'Hi Dir', 'Wind Chill', 'Heat Index', 'THW Index',\n",
    " 'Bar', 'Rain', 'Rain Rate', 'Heat D-D', 'Cool D-D', 'In Temp', 'In Hum', 'In Dew',\n",
    " 'In Heat', 'In EMC', 'In Air Density', 'Wind Samp', 'Wind Tx', 'ISS Recept', 'Arc. Int.']\n",
    "\n",
    "df.columns = header\n",
    "df.head()\n",
    "# df.dtypes\n",
    "# Other values\n",
    "# Solar Rad.', 'Solar Energy', 'Hi Solar Rad.', 'UV Index', 'UV Dose', 'Hi UV', "
   ]
  },
  {
   "cell_type": "code",
   "execution_count": null,
   "id": "7a63a459",
   "metadata": {},
   "outputs": [],
   "source": [
    "df['Bar'].unique()"
   ]
  },
  {
   "cell_type": "code",
   "execution_count": null,
   "id": "0682b66e",
   "metadata": {},
   "outputs": [],
   "source": [
    "years = ['2021', '2022', '2023', '2024', '2025']\n",
    "\n",
    "ls = []\n",
    "\n",
    "\n",
    "for y in years:\n",
    "\n",
    "    wdf = df[df['DateTime'].dt.strftime('%Y') == y]\n",
    "    \n",
    "    wdf.to_csv('./csvs/' + str(y) + '.csv', index=False)"
   ]
  },
  {
   "cell_type": "code",
   "execution_count": null,
   "id": "14dffd75",
   "metadata": {},
   "outputs": [],
   "source": []
  }
 ],
 "metadata": {
  "kernelspec": {
   "display_name": "Python 3 (ipykernel)",
   "language": "python",
   "name": "python3"
  },
  "language_info": {
   "codemirror_mode": {
    "name": "ipython",
    "version": 3
   },
   "file_extension": ".py",
   "mimetype": "text/x-python",
   "name": "python",
   "nbconvert_exporter": "python",
   "pygments_lexer": "ipython3",
   "version": "3.12.3"
  }
 },
 "nbformat": 4,
 "nbformat_minor": 5
}
