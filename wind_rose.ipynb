{
 "cells": [
  {
   "cell_type": "code",
   "execution_count": null,
   "id": "c4e5576f",
   "metadata": {},
   "outputs": [],
   "source": [
    "import pandas as pd\n",
    "from windrose import WindroseAxes\n",
    "from matplotlib import pyplot as plt\n",
    "import matplotlib.cm as cm\n",
    "import numpy as np\n",
    "import seaborn as sns"
   ]
  },
  {
   "cell_type": "code",
   "execution_count": null,
   "id": "96e758c1",
   "metadata": {},
   "outputs": [],
   "source": [
    "# Import weather data from .txt file, skip first two rows\n",
    "df = pd.read_csv(\"23_10_data.txt\", header = None, skiprows = 2, parse_dates = [[0, 1]], dayfirst = True, sep = \"\\t\")\n",
    "df.head()"
   ]
  },
  {
   "cell_type": "code",
   "execution_count": null,
   "id": "f634b5b2",
   "metadata": {},
   "outputs": [],
   "source": [
    "# Replace headers\n",
    "header = ['DateTime', 'Temp Out', 'Hi Temp', 'Low Temp', 'Out Hum', 'Dew Pt.', 'Wind Speed',\n",
    " 'Wind Dir', 'Wind Run', 'Hi Speed', 'Hi Dir', 'Wind Chill', 'Heat Index', 'THW Index',\n",
    " 'Bar', 'Rain', 'Rain Rate', 'Heat D-D', 'Cool D-D', 'In Temp', 'In Hum', 'In Dew',\n",
    " 'In Heat', 'In EMC', 'In Air Density', 'Wind Samp', 'Wind Tx', 'ISS Recept', 'Arc. Int.']\n",
    "\n",
    "df.columns = header\n",
    "df.head()\n",
    "\n",
    "# Other values\n",
    "# Solar Rad.', 'Solar Energy', 'Hi Solar Rad.', 'UV Index', 'UV Dose', 'Hi UV', "
   ]
  },
  {
   "cell_type": "code",
   "execution_count": null,
   "id": "37985d65",
   "metadata": {},
   "outputs": [],
   "source": [
    "# Get Month and Year of data for Labels and filenames\n",
    "FileMonthYear = df['DateTime'][0].strftime('%y_%m')\n",
    "MonthYear = str(df['DateTime'][0].month_name() + ' ' + str(df['DateTime'][0].year))"
   ]
  },
  {
   "cell_type": "code",
   "execution_count": null,
   "id": "32c8990d",
   "metadata": {},
   "outputs": [],
   "source": [
    "# Replace blank wind direction values with NaN\n",
    "df['Wind Dir'].replace('---', np.nan, inplace=True)\n",
    "\n",
    "# Replace Compass points with bearings\n",
    "df['Wind Dir'].replace(['N', 'NNE', 'NE', 'ENE', 'E', 'ESE', 'SE', 'SSE', 'S', \n",
    "                            'SSW', 'SW', 'WSW', 'W', 'WNW', 'NW', 'NNW'], \n",
    "                        [0, 22.5, 45, 67.5, 90, 112.5, 135, 157.5, 180,\n",
    "                             202.5, 225, 247.5, 270, 292.5, 315, 337.5], inplace=True) "
   ]
  },
  {
   "cell_type": "code",
   "execution_count": null,
   "id": "386ba804",
   "metadata": {},
   "outputs": [],
   "source": [
    "# Plot graph\n",
    "from matplotlib.ticker import FormatStrFormatter\n",
    "\n",
    "ax = WindroseAxes.from_ax()\n",
    "ax.bar(df['Wind Dir'], df['Wind Speed'], cmap = cm.Greys, normed=True, \n",
    "           bins=np.arange(0, max(df['Wind Speed']), 5), opening = 0.8, edgecolor = 'black')\n",
    "\n",
    "ax.set_xticklabels(['E', 'NE', 'N', 'NW','W', 'SW', 'S', 'SE'], fontsize = 16)\n",
    "\n",
    "ax.set_legend()\n",
    "ax.set_legend(title = 'Wind Speed in mph', bbox_to_anchor=(1.05, 1), loc='upper left', borderaxespad=0.)\n",
    "\n",
    "ax.yaxis.set_major_formatter(FormatStrFormatter('%d %'))\n",
    "\n",
    "# Notes to help fit axis to data:\n",
    "# (x, y, step = z)\n",
    "# x is first tick, y is the max (add on one step size more), z is the step between ticks\n",
    "\n",
    "ax.set_yticks(np.arange(5, 20, step = 5))\n",
    "ax.set_yticklabels(np.arange(5, 20, step = 5), fontsize = 16, backgroundcolor = 'white')\n",
    "\n",
    "ax.annotate(MonthYear, xy = (0,1), xycoords='axes fraction', fontsize = 16)\n",
    "\n",
    "plt.gca().yaxis.set_major_formatter(FormatStrFormatter('%d %%'))\n",
    "\n",
    "ax.figure.savefig(FileMonthYear + '_windrose.png', bbox_inches='tight', dpi = 600)"
   ]
  },
  {
   "cell_type": "code",
   "execution_count": null,
   "id": "1670c86f",
   "metadata": {},
   "outputs": [],
   "source": []
  }
 ],
 "metadata": {
  "kernelspec": {
   "display_name": "Python 3 (ipykernel)",
   "language": "python",
   "name": "python3"
  },
  "language_info": {
   "codemirror_mode": {
    "name": "ipython",
    "version": 3
   },
   "file_extension": ".py",
   "mimetype": "text/x-python",
   "name": "python",
   "nbconvert_exporter": "python",
   "pygments_lexer": "ipython3",
   "version": "3.9.12"
  }
 },
 "nbformat": 4,
 "nbformat_minor": 5
}
