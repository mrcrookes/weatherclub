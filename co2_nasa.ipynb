{
 "cells": [
  {
   "cell_type": "code",
   "execution_count": null,
   "id": "84535bfc",
   "metadata": {},
   "outputs": [],
   "source": [
    "import pandas as pd\n",
    "from matplotlib import pyplot as plt\n",
    "import numpy as np\n",
    "import seaborn as sns"
   ]
  },
  {
   "cell_type": "code",
   "execution_count": null,
   "id": "e4b97fe9",
   "metadata": {},
   "outputs": [],
   "source": [
    "# Import co2 data from .txt file, skip first 54 rows and select two columes and add headers\n",
    "url = 'ftp://aftp.cmdl.noaa.gov/products/trends/co2/co2_mm_mlo.txt'\n",
    "cols = ['Year', 'Month', 'CO2 (parts per million)'] \n",
    "\n",
    "df = pd.read_csv(url, header = None, skiprows = 58, delim_whitespace = True, \n",
    "                 usecols = [0,1,4], names = cols, parse_dates = [[0,1]], infer_datetime_format = True)\n",
    "df.head()"
   ]
  },
  {
   "cell_type": "code",
   "execution_count": null,
   "id": "b121a7fd",
   "metadata": {},
   "outputs": [],
   "source": [
    "# Read bottom value\n",
    "CO2_latest = df.loc[len(df) - 1, 'CO2 (parts per million)']\n",
    "CO2_latest_date = df.loc[len(df) - 1, 'Year_Month']"
   ]
  },
  {
   "cell_type": "code",
   "execution_count": null,
   "id": "1a455555",
   "metadata": {},
   "outputs": [],
   "source": [
    "# Get Month and Year bottom value for labels and filenames\n",
    "FileMonthYear = CO2_latest_date.strftime('%y_%m')\n",
    "MonthYear = CO2_latest_date.strftime('(%m/%y): ')"
   ]
  },
  {
   "cell_type": "code",
   "execution_count": null,
   "id": "93876c89",
   "metadata": {},
   "outputs": [],
   "source": [
    "# Remove dates before 2005\n",
    "res = df[~(df['Year_Month'] < '2005-01-01')]\n",
    "res.head()"
   ]
  },
  {
   "cell_type": "code",
   "execution_count": null,
   "id": "eba9323c",
   "metadata": {},
   "outputs": [],
   "source": [
    "# Plot graph\n",
    "ax = res.plot(kind='line', x = 'Year_Month', y ='CO2 (parts per million)', fontsize = 10, legend = False, color = 'black')\n",
    "ax.set_xlabel(None)\n",
    "ax.set_ylabel(\"CO2 (parts per million)\", fontsize = 16, labelpad = 10)\n",
    "\n",
    "#ax.annotate('Lastest measurement - 415.88 ppm', xycoords='axes fraction', xy=(0.8,0.9), \n",
    "     #       xytext=(0.3,0.9), arrowprops={'arrowstyle': '->'}, va='right')\n",
    "\n",
    "ax.annotate('Latest measurement ' + MonthYear + str(CO2_latest), xy = (0.95,0.95), xytext = (0.3,0.93), \n",
    "            arrowprops = {'arrowstyle': '->'}, xycoords = 'axes fraction')\n",
    "\n",
    "ax.annotate('Source: climate.nasa.gov', xy = (0.55,0.1), xycoords = 'axes fraction')\n",
    "\n",
    "plot = ax.get_figure()\n",
    "plot.set_facecolor('white')\n",
    "plot.savefig(FileMonthYear + \"_co2\" + '.png', bbox_inches = 'tight', dpi = 600)"
   ]
  },
  {
   "cell_type": "code",
   "execution_count": null,
   "id": "cdf65499",
   "metadata": {},
   "outputs": [],
   "source": []
  },
  {
   "cell_type": "code",
   "execution_count": null,
   "id": "bedff321",
   "metadata": {},
   "outputs": [],
   "source": []
  },
  {
   "cell_type": "code",
   "execution_count": null,
   "id": "16a12f8b",
   "metadata": {},
   "outputs": [],
   "source": []
  }
 ],
 "metadata": {
  "kernelspec": {
   "display_name": "Python 3 (ipykernel)",
   "language": "python",
   "name": "python3"
  },
  "language_info": {
   "codemirror_mode": {
    "name": "ipython",
    "version": 3
   },
   "file_extension": ".py",
   "mimetype": "text/x-python",
   "name": "python",
   "nbconvert_exporter": "python",
   "pygments_lexer": "ipython3",
   "version": "3.9.12"
  }
 },
 "nbformat": 4,
 "nbformat_minor": 5
}
